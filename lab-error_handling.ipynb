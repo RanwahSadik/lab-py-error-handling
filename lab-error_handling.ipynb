{
 "cells": [
  {
   "cell_type": "markdown",
   "metadata": {},
   "source": [
    "# LAB | Error Handling in Python\n",
    "\n",
    "## Overview\n",
    "This exercise notebook will help you practice error handling in Python using exceptions. You will write programs that handle various types of exceptions to ensure your code runs smoothly and handles errors gracefully."
   ]
  },
  {
   "cell_type": "markdown",
   "metadata": {},
   "source": [
    "### Exercise 1: Handle ZeroDivisionError\n",
    "Write a Python program to handle a `ZeroDivisionError` exception when dividing a number by zero.\n"
   ]
  },
  {
   "cell_type": "code",
   "execution_count": 5,
   "metadata": {},
   "outputs": [
    {
     "name": "stdout",
     "output_type": "stream",
     "text": [
      "Enter num1: 4\n",
      "Enter num2: 0\n",
      "Error:cannot divide by zero.\n"
     ]
    }
   ],
   "source": [
    "# Your code here\n",
    "try:\n",
    "    # Ask for input\n",
    "    num1 = float(input(\"Enter num1: \"))\n",
    "    num2 = float(input(\"Enter num2: \"))\n",
    "\n",
    "    result = num1 / num2\n",
    "    print(f\"The result is: {result}\")\n",
    "\n",
    "except ZeroDivisionError:\n",
    "    print(\"Error:cannot divide by zero.\")"
   ]
  },
  {
   "cell_type": "markdown",
   "metadata": {},
   "source": [
    "\n",
    "### Exercise 2: Raise ValueError for Invalid Input\n",
    "Write a Python program that prompts the user to input an integer and raises a `ValueError` exception if the input is not a valid integer.\n",
    "\n"
   ]
  },
  {
   "cell_type": "code",
   "execution_count": 32,
   "metadata": {},
   "outputs": [
    {
     "name": "stdout",
     "output_type": "stream",
     "text": [
      "enter an integer: r\n",
      "Error: not a valid integer.\n"
     ]
    }
   ],
   "source": [
    "# Your code here\n",
    "try:\n",
    "    # Ask for input\n",
    "    x = input(\"enter an integer: \")\n",
    "\n",
    "    num = int(x)\n",
    "    print(f\"You entered: {num}\")\n",
    "\n",
    "except ValueError:\n",
    "    print(\"Error: not a valid integer.\")"
   ]
  },
  {
   "cell_type": "markdown",
   "metadata": {},
   "source": [
    "\n",
    "\n",
    "### Exercise 3: Handle FileNotFoundError\n",
    "Write a Python program that opens a file and handles a `FileNotFoundError` exception if the file does not exist.\n",
    "\n"
   ]
  },
  {
   "cell_type": "code",
   "execution_count": 4,
   "metadata": {},
   "outputs": [
    {
     "name": "stdout",
     "output_type": "stream",
     "text": [
      "Error: The file ' ' was not found.\n"
     ]
    }
   ],
   "source": [
    "# Your code here\n",
    "try:\n",
    "    filename = \" \"\n",
    "    \n",
    "    with open(filename, 'r') as file:\n",
    "        content = file.read()\n",
    "        print(\"File content:\\n\", content)\n",
    "\n",
    "except FileNotFoundError:\n",
    "    print(f\"Error: The file '{filename}' was not found.\")"
   ]
  },
  {
   "cell_type": "markdown",
   "metadata": {},
   "source": [
    "\n",
    "\n",
    "### Exercise 4: Raise TypeError for Non-Numerical Input\n",
    "Write a Python program that prompts the user to input two numbers and raises a `TypeError` exception if the inputs are not numerical.\n",
    "\n"
   ]
  },
  {
   "cell_type": "code",
   "execution_count": 7,
   "metadata": {},
   "outputs": [
    {
     "name": "stdout",
     "output_type": "stream",
     "text": [
      "Enter num1: 5\n",
      "Enter num2: t\n",
      "Error:  please enter numbers.\n"
     ]
    }
   ],
   "source": [
    "try:\n",
    "    num1 = input(\"Enter num1: \")\n",
    "    num2 = input(\"Enter num2: \")\n",
    "\n",
    "    if not num1.replace('.', '', 1).isdigit() or not num2.replace('.', '', 1).isdigit():\n",
    "        raise TypeError(\" please enter numbers.\")\n",
    "    \n",
    "    num1 = float(num1)\n",
    "    num2 = float(num2)\n",
    "\n",
    "    result = num1 + num2\n",
    "    print(f\"The sum of {num1} and {num2} is: {result}\")\n",
    "\n",
    "except TypeError as e:\n",
    "    print(f\"Error: {e}\")"
   ]
  },
  {
   "cell_type": "markdown",
   "metadata": {},
   "source": [
    "\n",
    "\n",
    "### Exercise 5: Handle PermissionError\n",
    "Write a Python program that opens a file and handles a `PermissionError` exception if there is a permission issue.\n",
    "\n",
    "\n"
   ]
  },
  {
   "cell_type": "code",
   "execution_count": 8,
   "metadata": {},
   "outputs": [
    {
     "ename": "FileNotFoundError",
     "evalue": "[Errno 2] No such file or directory: ' '",
     "output_type": "error",
     "traceback": [
      "\u001b[1;31m---------------------------------------------------------------------------\u001b[0m",
      "\u001b[1;31mFileNotFoundError\u001b[0m                         Traceback (most recent call last)",
      "Cell \u001b[1;32mIn[8], line 5\u001b[0m\n\u001b[0;32m      2\u001b[0m \u001b[38;5;28;01mtry\u001b[39;00m:\n\u001b[0;32m      3\u001b[0m     filename \u001b[38;5;241m=\u001b[39m \u001b[38;5;124m\"\u001b[39m\u001b[38;5;124m \u001b[39m\u001b[38;5;124m\"\u001b[39m\n\u001b[1;32m----> 5\u001b[0m     \u001b[38;5;28;01mwith\u001b[39;00m \u001b[38;5;28mopen\u001b[39m(filename, \u001b[38;5;124m'\u001b[39m\u001b[38;5;124mr\u001b[39m\u001b[38;5;124m'\u001b[39m) \u001b[38;5;28;01mas\u001b[39;00m file:\n\u001b[0;32m      6\u001b[0m         content \u001b[38;5;241m=\u001b[39m file\u001b[38;5;241m.\u001b[39mread()\n\u001b[0;32m      7\u001b[0m         \u001b[38;5;28mprint\u001b[39m(\u001b[38;5;124m\"\u001b[39m\u001b[38;5;124mFile content:\u001b[39m\u001b[38;5;130;01m\\n\u001b[39;00m\u001b[38;5;124m\"\u001b[39m, content)\n",
      "File \u001b[1;32m~\\anaconda3\\Lib\\site-packages\\IPython\\core\\interactiveshell.py:286\u001b[0m, in \u001b[0;36m_modified_open\u001b[1;34m(file, *args, **kwargs)\u001b[0m\n\u001b[0;32m    279\u001b[0m \u001b[38;5;28;01mif\u001b[39;00m file \u001b[38;5;129;01min\u001b[39;00m {\u001b[38;5;241m0\u001b[39m, \u001b[38;5;241m1\u001b[39m, \u001b[38;5;241m2\u001b[39m}:\n\u001b[0;32m    280\u001b[0m     \u001b[38;5;28;01mraise\u001b[39;00m \u001b[38;5;167;01mValueError\u001b[39;00m(\n\u001b[0;32m    281\u001b[0m         \u001b[38;5;124mf\u001b[39m\u001b[38;5;124m\"\u001b[39m\u001b[38;5;124mIPython won\u001b[39m\u001b[38;5;124m'\u001b[39m\u001b[38;5;124mt let you open fd=\u001b[39m\u001b[38;5;132;01m{\u001b[39;00mfile\u001b[38;5;132;01m}\u001b[39;00m\u001b[38;5;124m by default \u001b[39m\u001b[38;5;124m\"\u001b[39m\n\u001b[0;32m    282\u001b[0m         \u001b[38;5;124m\"\u001b[39m\u001b[38;5;124mas it is likely to crash IPython. If you know what you are doing, \u001b[39m\u001b[38;5;124m\"\u001b[39m\n\u001b[0;32m    283\u001b[0m         \u001b[38;5;124m\"\u001b[39m\u001b[38;5;124myou can use builtins\u001b[39m\u001b[38;5;124m'\u001b[39m\u001b[38;5;124m open.\u001b[39m\u001b[38;5;124m\"\u001b[39m\n\u001b[0;32m    284\u001b[0m     )\n\u001b[1;32m--> 286\u001b[0m \u001b[38;5;28;01mreturn\u001b[39;00m io_open(file, \u001b[38;5;241m*\u001b[39margs, \u001b[38;5;241m*\u001b[39m\u001b[38;5;241m*\u001b[39mkwargs)\n",
      "\u001b[1;31mFileNotFoundError\u001b[0m: [Errno 2] No such file or directory: ' '"
     ]
    }
   ],
   "source": [
    "# Your code here\n",
    "try:\n",
    "    filename = \" \"\n",
    "\n",
    "    with open(filename, 'r') as file:\n",
    "        content = file.read()\n",
    "        print(\"File content:\\n\", content)\n",
    "\n",
    "except PermissionError:\n",
    "    print(\"Error: You do not have permission.\")"
   ]
  },
  {
   "cell_type": "markdown",
   "metadata": {},
   "source": [
    "\n",
    "\n",
    "### Exercise 6: Handle IndexError in List Operations\n",
    "Write a Python program that executes an operation on a list and handles an `IndexError` exception if the index is out of range.\n",
    "\n",
    "\n"
   ]
  },
  {
   "cell_type": "code",
   "execution_count": 11,
   "metadata": {},
   "outputs": [
    {
     "name": "stdout",
     "output_type": "stream",
     "text": [
      "Enter an index: 5\n",
      "Error: The index is out of range.\n"
     ]
    }
   ],
   "source": [
    "# Your code here\n",
    "try:\n",
    "    list1 = [2, 4, 6, 8, 10]\n",
    "    \n",
    "    index = int(input(\"Enter an index: \"))\n",
    "    \n",
    "    element = list1[index]\n",
    "    print(f\"Element at index {index} is: {element}\")\n",
    "\n",
    "except IndexError:\n",
    "    print(\"Error: The index is out of range.\")\n"
   ]
  },
  {
   "cell_type": "markdown",
   "metadata": {},
   "source": [
    "\n",
    "\n",
    "### Exercise 7: Handle KeyboardInterrupt Exception\n",
    "Write a Python program that prompts the user to input a number and handles a `KeyboardInterrupt` exception if the user cancels the input.\n",
    "\n"
   ]
  },
  {
   "cell_type": "code",
   "execution_count": 14,
   "metadata": {},
   "outputs": [
    {
     "name": "stdout",
     "output_type": "stream",
     "text": [
      "Enter a number: 3\n",
      "You entered: 3\n"
     ]
    }
   ],
   "source": [
    "# Your code here\n",
    "try:\n",
    "    num = input(\"Enter a number: \")\n",
    "    number = int(num)\n",
    "    print(f\"You entered: {number}\")\n",
    "\n",
    "except KeyboardInterrupt:\n",
    "    print(\"\\nError: Input canceled.\")"
   ]
  },
  {
   "cell_type": "markdown",
   "metadata": {},
   "source": [
    "\n",
    "\n",
    "### Exercise 8: Handle ArithmeticError\n",
    "Write a Python program that executes division and handles an `ArithmeticError` exception if there is an arithmetic error.\n",
    "\n"
   ]
  },
  {
   "cell_type": "code",
   "execution_count": 18,
   "metadata": {},
   "outputs": [
    {
     "name": "stdout",
     "output_type": "stream",
     "text": [
      "Enter num1: 6\n",
      "Enter num2: 0\n",
      "Error:arithmetic error.float division by zero\n"
     ]
    }
   ],
   "source": [
    "# Your code here\n",
    "try:\n",
    "    num1 = float(input(\"Enter num1: \"))\n",
    "    num2 = float(input(\"Enter num2: \"))\n",
    "    \n",
    "    result = num1 / num2\n",
    "    print(result)\n",
    "\n",
    "except ArithmeticError as e:\n",
    "    print(f\"Error:arithmetic error.{e}\")\n"
   ]
  },
  {
   "cell_type": "markdown",
   "metadata": {},
   "source": [
    "\n",
    "\n",
    "### Exercise 9: Handle UnicodeDecodeError\n",
    "Write a Python program that opens a file and handles a `UnicodeDecodeError` exception if there is an encoding issue.\n",
    "\n"
   ]
  },
  {
   "cell_type": "code",
   "execution_count": null,
   "metadata": {},
   "outputs": [],
   "source": [
    "# Your code here\n",
    "try:\n",
    "    filename = \" \"\n",
    "\n",
    "    with open(filename, 'r', encoding='utf-8') as file:\n",
    "        content = file.read()\n",
    "        print(\"File content:\\n\", content)\n",
    "\n",
    "except UnicodeDecodeError:\n",
    "    print(\"Error: encoding issue.\")\n"
   ]
  },
  {
   "cell_type": "markdown",
   "metadata": {},
   "source": [
    "\n",
    "\n",
    "### Exercise 10: Handle AttributeError\n",
    "Write a Python program that executes an operation on an object and handles an `AttributeError` exception if the attribute does not exist.\n",
    "\n"
   ]
  },
  {
   "cell_type": "code",
   "execution_count": 19,
   "metadata": {},
   "outputs": [
    {
     "name": "stdout",
     "output_type": "stream",
     "text": [
      "Error: object does not exist.\n"
     ]
    }
   ],
   "source": [
    "# Your code here\n",
    "class test:\n",
    "    def __init__(self):\n",
    "        self.name = \"Ironhack\"\n",
    "        \n",
    "x = test()\n",
    "\n",
    "try:\n",
    "    print(x.id)\n",
    "    \n",
    "except AttributeError:\n",
    "    print(\"Error: object does not exist.\")\n"
   ]
  },
  {
   "cell_type": "markdown",
   "metadata": {},
   "source": [
    "\n",
    "\n",
    "## Bonus Exercises\n",
    "\n",
    "### Bonus Exercise 1: Handle Multiple Exceptions\n",
    "Write a Python program that demonstrates handling multiple exceptions in one block.\n",
    "\n",
    "\n"
   ]
  },
  {
   "cell_type": "code",
   "execution_count": 20,
   "metadata": {},
   "outputs": [
    {
     "name": "stdout",
     "output_type": "stream",
     "text": [
      "Enter num1: 4\n",
      "Enter num2: 2\n",
      "2.0\n"
     ]
    }
   ],
   "source": [
    "# Your code here\n",
    "try:\n",
    "    num1 = float(input(\"Enter num1: \"))\n",
    "    num2 = float(input(\"Enter num2: \"))\n",
    "\n",
    "    result = num1 / num2\n",
    "    print(result)\n",
    "\n",
    "except (ValueError, ZeroDivisionError) as e:\n",
    "    print(f\"Error: {e}\")"
   ]
  },
  {
   "cell_type": "markdown",
   "metadata": {},
   "source": [
    "\n",
    "\n",
    "### Bonus Exercise 2: Create Custom Exception\n",
    "Create a custom exception class and raise it in your code when certain conditions are met.\n",
    "\n",
    "\n"
   ]
  },
  {
   "cell_type": "code",
   "execution_count": 22,
   "metadata": {},
   "outputs": [
    {
     "name": "stdout",
     "output_type": "stream",
     "text": [
      "Enter a number: -2\n",
      "Error: Enter positive number\n"
     ]
    }
   ],
   "source": [
    "class CustomError(Exception):\n",
    "    pass\n",
    "\n",
    "def test(num):\n",
    "    if num < 0:\n",
    "        raise CustomError(\"Enter positive number\")\n",
    "\n",
    "try:\n",
    "    num = int(input(\"Enter a number: \"))\n",
    "    \n",
    "    test(num)\n",
    "    print(f\"You enter: {num}\")\n",
    "\n",
    "except CustomError as e:\n",
    "    print(f\"Error: {e}\")"
   ]
  },
  {
   "cell_type": "markdown",
   "metadata": {},
   "source": [
    "\n",
    "\n",
    "### Bonus Exercise 3: Validate User Input with Exception Handling\n",
    "Write a program that repeatedly prompts the user for valid input until they provide it, using exception handling to manage invalid inputs.\n",
    "\n"
   ]
  },
  {
   "cell_type": "code",
   "execution_count": 28,
   "metadata": {},
   "outputs": [
    {
     "name": "stdout",
     "output_type": "stream",
     "text": [
      "Please enter a num: x\n",
      "Error: Enter an a number.\n",
      "Please enter a num: 4\n",
      "valid number\n"
     ]
    }
   ],
   "source": [
    "# Your code here\n",
    "def Enter_int():\n",
    "    while True:\n",
    "        try:\n",
    "            num1 = input(\"Please enter a num: \")\n",
    "            return int(num1)\n",
    "        except ValueError:\n",
    "            print(\"Error: Enter an a number.\")\n",
    "\n",
    "x = Enter_int()\n",
    "print(\"valid number\")\n"
   ]
  },
  {
   "cell_type": "markdown",
   "metadata": {},
   "source": [
    "\n",
    "\n",
    "### Bonus Exercise 4: Log Errors to File\n",
    "Modify your error handling to log errors to a text file instead of printing them to the console.\n",
    "\n"
   ]
  },
  {
   "cell_type": "code",
   "execution_count": 30,
   "metadata": {},
   "outputs": [
    {
     "name": "stdout",
     "output_type": "stream",
     "text": [
      "Please enter a num: e\n",
      "Error: Enter a number.\n",
      "Please enter a num: 4\n",
      "valid number\n"
     ]
    }
   ],
   "source": [
    "# Your code here\n",
    "def error_file(x):\n",
    "    with open(\"log.txt\", \"a\") as log:\n",
    "        log.write(x)\n",
    "\n",
    "def Enter_int():\n",
    "    while True:\n",
    "        try:\n",
    "            num1 = input(\"Please enter a num: \")\n",
    "            return int(num1)\n",
    "        except ValueError:\n",
    "            error = \"Error: Invalid input.\"\n",
    "            error_file(error)  \n",
    "            print(\"Error: Enter a number.\")  \n",
    "\n",
    "x = Enter_int()\n",
    "print(\"valid number\")"
   ]
  },
  {
   "cell_type": "markdown",
   "metadata": {},
   "source": [
    "\n",
    "\n",
    "### Bonus Exercise 5: Retry Logic on Exception\n",
    "Implement retry logic for operations that could fail, allowing users to try again after encountering an error.\n",
    "\n"
   ]
  },
  {
   "cell_type": "code",
   "execution_count": 31,
   "metadata": {},
   "outputs": [
    {
     "name": "stdout",
     "output_type": "stream",
     "text": [
      "Please enter a num: e\n",
      "Error: Enter a number.\n",
      "Please enter a num: 4\n",
      "valid number\n"
     ]
    }
   ],
   "source": [
    "# Your code here\n",
    "def error_file(x):\n",
    "    with open(\"log.txt\", \"a\") as log:\n",
    "        log.write(x)\n",
    "\n",
    "def Enter_int():\n",
    "    while True:\n",
    "        try:\n",
    "            num1 = input(\"Please enter a num: \")\n",
    "            return int(num1)\n",
    "        except ValueError:\n",
    "            error = \"Error: Invalid input.\"\n",
    "            error_file(error)  \n",
    "            print(\"Error: Enter a number.\")  \n",
    "            continue #add this\n",
    "x = Enter_int()\n",
    "print(\"valid number\")"
   ]
  },
  {
   "cell_type": "code",
   "execution_count": null,
   "metadata": {},
   "outputs": [],
   "source": []
  }
 ],
 "metadata": {
  "kernelspec": {
   "display_name": "Python 3 (ipykernel)",
   "language": "python",
   "name": "python3"
  },
  "language_info": {
   "codemirror_mode": {
    "name": "ipython",
    "version": 3
   },
   "file_extension": ".py",
   "mimetype": "text/x-python",
   "name": "python",
   "nbconvert_exporter": "python",
   "pygments_lexer": "ipython3",
   "version": "3.11.5"
  }
 },
 "nbformat": 4,
 "nbformat_minor": 2
}
